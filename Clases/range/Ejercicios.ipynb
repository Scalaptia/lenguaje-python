{
 "cells": [
  {
   "cell_type": "code",
   "execution_count": 5,
   "metadata": {},
   "outputs": [
    {
     "name": "stdout",
     "output_type": "stream",
     "text": [
      "La media de las calificaciones del examen es de: 81.7\n"
     ]
    }
   ],
   "source": [
    "calificaciones = [98, 76, 71, 87, 83, 90, 57, 79, 82, 94]\n",
    "total = 0\n",
    "contador = 0\n",
    "\n",
    "for calif in calificaciones:\n",
    "    total += calif\n",
    "    contador += 1\n",
    "\n",
    "print(f\"La media de las calificaciones del examen es de: {total / contador}\")"
   ]
  },
  {
   "cell_type": "code",
   "execution_count": 11,
   "metadata": {},
   "outputs": [
    {
     "name": "stdout",
     "output_type": "stream",
     "text": [
      "No se ingresaron calificaciones\n"
     ]
    }
   ],
   "source": [
    "# Fase de Inicialización\n",
    "total = 0\n",
    "contador = 0\n",
    "\n",
    "# Fase de Procesamiento\n",
    "calificacion = int(input(f\"Ingrese la calificacion del estudiante {contador + 1} (-1 para terminar): \"))\n",
    "\n",
    "while(calificacion != -1):\n",
    "    total += calificacion\n",
    "    contador += 1\n",
    "    calificacion = int(input(f\"Ingrese la calificacion del estudiante {contador + 1} (-1 para terminar): \"))\n",
    "    \n",
    "# Fase de Finalización\n",
    "if(contador != 0):\n",
    "    promedio = total / contador\n",
    "    print(f\"La media de las calificaciones del examen es de: {promedio}\")\n",
    "else:\n",
    "    print(f\"No se ingresaron calificaciones\")\n"
   ]
  },
  {
   "cell_type": "code",
   "execution_count": 13,
   "metadata": {},
   "outputs": [
    {
     "name": "stdout",
     "output_type": "stream",
     "text": [
      "9 aprobaron, 1 reprobaron\n",
      "El instructor debe recibir una bonificación\n"
     ]
    }
   ],
   "source": [
    "# Fase de Inicialización\n",
    "cont_aprobados = 0\n",
    "cont_reprobados = 0\n",
    "\n",
    "# Fase de Procesamiento\n",
    "for i in range(10):\n",
    "    val = int(input(\"Ingrese el resultado del próximo examen: \"))\n",
    "\n",
    "    if (val == 1):\n",
    "        cont_aprobados += 1\n",
    "    else:\n",
    "        cont_reprobados += 1\n",
    "\n",
    "\n",
    "# Fase de Finalización\n",
    "print(f\"{cont_aprobados} aprobados\")\n",
    "print(f\"{cont_reprobados} reprobados\")\n",
    "\n",
    "if (cont_aprobados > 8):\n",
    "    print(\"Bonificar al instructor\")\n"
   ]
  },
  {
   "cell_type": "code",
   "execution_count": 14,
   "metadata": {},
   "outputs": [
    {
     "name": "stdout",
     "output_type": "stream",
     "text": [
      "10 es par\n",
      "7 es impar\n"
     ]
    }
   ],
   "source": [
    "for i in range(2):\n",
    "    val = int(input(\"Ingrese un entero\"))\n",
    "\n",
    "    if (val % 2 == 0):\n",
    "        print(f\"{val} es par\")\n",
    "    else:\n",
    "        print(f\"{val} es impar\")\n"
   ]
  },
  {
   "cell_type": "code",
   "execution_count": 16,
   "metadata": {},
   "outputs": [
    {
     "name": "stdout",
     "output_type": "stream",
     "text": [
      "99 88 77 66 55 44 33 22 11 0 "
     ]
    }
   ],
   "source": [
    "for i in range(99, -1, -11):\n",
    "    print(i, end = \" \")"
   ]
  },
  {
   "cell_type": "code",
   "execution_count": 18,
   "metadata": {},
   "outputs": [
    {
     "name": "stdout",
     "output_type": "stream",
     "text": [
      "La suma de los enteros pares del 2 al 100 son: 2550\n"
     ]
    }
   ],
   "source": [
    "suma = 0\n",
    "\n",
    "for i in range(2, 101, 2):\n",
    "    suma += i\n",
    "\n",
    "print(f\"La suma de los enteros pares del 2 al 100 son: {suma}\")"
   ]
  },
  {
   "cell_type": "code",
   "execution_count": null,
   "metadata": {},
   "outputs": [],
   "source": []
  }
 ],
 "metadata": {
  "kernelspec": {
   "display_name": "Python 3 (ipykernel)",
   "language": "python",
   "name": "python3"
  }
 },
 "nbformat": 4,
 "nbformat_minor": 2
}
