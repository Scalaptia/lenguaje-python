{
 "cells": [
  {
   "cell_type": "code",
   "execution_count": 4,
   "metadata": {},
   "outputs": [
    {
     "name": "stdout",
     "output_type": "stream",
     "text": [
      "x = 2\n",
      "Value of 2 + 2 is 4\n",
      "x =\n",
      "5 x = 5\n"
     ]
    }
   ],
   "source": [
    "\"\"\"Ejercicio 1\"\"\"\n",
    "# ¿Qué hace el siguiente código? Crea las variables x = 2 e y\n",
    "# = 3, luego determina lo que muestra cada una de las\n",
    "# siguientes declaraciones:\n",
    "x, y = 2, 3\n",
    "\n",
    "print('x =', x)\n",
    "print('Value of', x, '+', x, 'is', (x + x))\n",
    "print('x =')\n",
    "print((x + y), 'x =', (y + x))"
   ]
  },
  {
   "cell_type": "code",
   "execution_count": 5,
   "metadata": {},
   "outputs": [],
   "source": [
    "\"\"\"Ejercicio 2\"\"\"\n",
    "# ¿Qué hay de malo con este código?\n",
    "# El siguiente código debe leer un entero en la variable calificación:\n",
    "\n",
    "# calificación = input('Ingrese una calificacion entera entre 1 y 100')\n",
    "\n",
    "# La función input devuelve un string, debería convertirse a entero haciendo un casting con int().\n",
    "calificación = int(input('Ingrese una calificacion entera entre 1 y 100: '))"
   ]
  },
  {
   "cell_type": "code",
   "execution_count": 6,
   "metadata": {},
   "outputs": [
    {
     "name": "stdout",
     "output_type": "stream",
     "text": [
      "Radio = 2\n",
      "Pi = 3.14159\n",
      "Diametro = 4\n",
      "Circunferencia = 12.56636\n",
      "Area = 12.56636\n"
     ]
    }
   ],
   "source": [
    "\"\"\"Ejercicio 4\"\"\"\n",
    "# (Área, diámetro y circunferencia del círculo) Para un círculo\n",
    "# de radio 2, muestre el diámetro, la circunferencia y el área.\n",
    "# Utilice el valor 3,14159 para π. Utilice las siguientes\n",
    "# fórmulas (r es el radio): diámetro = 2r, circunferencia = 2πr y\n",
    "# área = π r2.\n",
    "\n",
    "r = 2\n",
    "pi = 3.14159\n",
    "diametro = 2 * r\n",
    "circunferencia = 2 * pi * r\n",
    "area = pi * r ** 2\n",
    "\n",
    "print(f\"Radio = {r}\")\n",
    "print(f\"Pi = {pi}\")\n",
    "print(f\"Diametro = {diametro}\")\n",
    "print(f\"Circunferencia = {circunferencia}\")\n",
    "print(f\"Area = {area}\")"
   ]
  },
  {
   "cell_type": "code",
   "execution_count": 7,
   "metadata": {},
   "outputs": [
    {
     "name": "stdout",
     "output_type": "stream",
     "text": [
      "El numero entero 8 es par\n"
     ]
    }
   ],
   "source": [
    "\"\"\"Ejercicio 5\"\"\"\n",
    "# (Par o impar) Utilice sentencias if para determinar si un\n",
    "# número entero es par o impar. [Sugerencia: utilice el\n",
    "# operador residuo. Un número par es múltiplo de 2.\n",
    "# Cualquier múltiplo de 2 deja un residuo de 0 cuando se\n",
    "# divide por 2.\n",
    "\n",
    "numero = int(input(\"Ingrese un número entero: \"))\n",
    "if numero % 2 == 0:\n",
    "    print(f\"El numero entero {numero} es par\")\n",
    "\n",
    "if numero % 2 != 0:\n",
    "    print(f\"El numero entero {numero} es impar\")"
   ]
  },
  {
   "cell_type": "code",
   "execution_count": 8,
   "metadata": {},
   "outputs": [
    {
     "name": "stdout",
     "output_type": "stream",
     "text": [
      "1024 es un múltiplo de 4\n"
     ]
    }
   ],
   "source": [
    "\"\"\"Ejercicio 6\"\"\"\n",
    "# (Múltiplos) Utilice sentencias if para determinar si 1024 es\n",
    "# múltiplo de 4 y si 2 es múltiplo de 10. (Sugerencia: utilice el\n",
    "# operador de residuo).\n",
    "\n",
    "n1 = int(input(\"Ingrese el primer entero: \"))\n",
    "n2 = int(input(\"Ingrese el segundo entero: \"))\n",
    "\n",
    "if n1 > n2:\n",
    "    if n1 % n2 == 0:\n",
    "        print(f\"{n1} es un múltiplo de {n2}\")\n",
    "\n",
    "    if n1 % n2 != 0:\n",
    "        print(f\"{n1} no es múltiplo de {n2}\")\n",
    "\n",
    "if n1 < n2:\n",
    "    if n2 % n1 == 0:\n",
    "        print(f\"{n2} es un múltiplo de {n1}\")\n",
    "\n",
    "    if n2 % n1 != 0:\n",
    "        print(f\"{n2} no es múltiplo de {n1}\")"
   ]
  },
  {
   "cell_type": "code",
   "execution_count": 13,
   "metadata": {},
   "outputs": [
    {
     "name": "stdout",
     "output_type": "stream",
     "text": [
      "numero \t cuadrado   cubo\n",
      "0 \t 0 \t    0\n",
      "1 \t 1 \t    1\n",
      "2 \t 4 \t    8\n",
      "3 \t 9 \t    27\n",
      "4 \t 16 \t    64\n",
      "5 \t 25 \t    125\n"
     ]
    }
   ],
   "source": [
    "\"\"\"Ejercicio 7\"\"\"\n",
    "# (Tabla de cuadrados y cubos) Escriba un guión(script) que\n",
    "# calcule los cuadrados y cubos de los números del 0 al 5.\n",
    "# Imprima los valores resultantes en formato de\n",
    "# tabla. Utilice la secuencia de escape de tabulación\n",
    "# para lograr el resultado de tres columnas.\n",
    "\n",
    "print(\"numero\", \"\\t\", \"cuadrado\", \" \", \"cubo\")\n",
    "\n",
    "numero = 0\n",
    "print(numero, \"\\t\", numero**2, \"\\t   \", numero**3)\n",
    "\n",
    "numero = 1\n",
    "print(numero, \"\\t\", numero**2, \"\\t   \", numero**3)\n",
    "\n",
    "numero = 2\n",
    "print(numero, \"\\t\", numero**2, \"\\t   \", numero**3)\n",
    "\n",
    "numero = 3\n",
    "print(numero, \"\\t\", numero**2, \"\\t   \", numero**3)\n",
    "\n",
    "numero = 4\n",
    "print(numero, \"\\t\", numero**2, \"\\t   \", numero**3)\n",
    "\n",
    "numero = 5\n",
    "print(numero, \"\\t\", numero**2, \"\\t   \", numero**3)\n"
   ]
  },
  {
   "cell_type": "code",
   "execution_count": 12,
   "metadata": {},
   "outputs": [
    {
     "name": "stdout",
     "output_type": "stream",
     "text": [
      "numero \t cuadrado   cubo\n",
      "     0 \t        0      0\n",
      "     1 \t        1      1\n",
      "     2 \t        4      8\n",
      "     3 \t        9     27\n",
      "     4 \t       16     64\n",
      "     5 \t       25    125\n"
     ]
    }
   ],
   "source": [
    "# \"\"\"Ejercicio 8\"\"\"\n",
    "# Muestra cómo \"alinear a la derecha\" los números.\n",
    "\n",
    "print (\"numero\", \"\\t\", \"cuadrado\", \" \", \"cubo\")\n",
    "\n",
    "numero = 0\n",
    "print (f\"{numero:6} \\t {numero**2:8}   {numero**3:4}\")\n",
    "\n",
    "numero = 1\n",
    "print (f\"{numero:6} \\t {numero**2:8}   {numero**3:4}\")\n",
    "\n",
    "numero = 2\n",
    "print (f\"{numero:6} \\t {numero**2:8}   {numero**3:4}\")\n",
    "\n",
    "numero = 3\n",
    "print (f\"{numero:6} \\t {numero**2:8}   {numero**3:4}\")\n",
    "\n",
    "numero = 4\n",
    "print (f\"{numero:6} \\t {numero**2:8}   {numero**3:4}\")\n",
    "\n",
    "numero = 5\n",
    "print (f\"{numero:6} \\t {numero**2:8}   {numero**3:4}\")"
   ]
  }
 ],
 "metadata": {
  "kernelspec": {
   "display_name": "Python 3 (ipykernel)",
   "language": "python",
   "name": "python3"
  },
  "language_info": {
   "codemirror_mode": {
    "name": "ipython",
    "version": 3
   },
   "file_extension": ".py",
   "mimetype": "text/x-python",
   "name": "python",
   "nbconvert_exporter": "python",
   "pygments_lexer": "ipython3",
   "version": "3.11.5"
  }
 },
 "nbformat": 4,
 "nbformat_minor": 2
}
