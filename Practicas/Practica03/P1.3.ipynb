{
 "cells": [
  {
   "cell_type": "code",
   "execution_count": 22,
   "metadata": {},
   "outputs": [
    {
     "name": "stdout",
     "output_type": "stream",
     "text": [
      "66 67 68 98 99 100 48 49 50 36 42 43 32\n"
     ]
    }
   ],
   "source": [
    "# Ejercicio 9\n",
    "\"\"\"(Valor entero de un carácter) He aquí un avance. En las clases anteriores\n",
    "aprendiste sobre las cadenas o strings(str). Cada uno de los caracteres de una\n",
    "cadena tiene una representación entera. El conjunto de caracteres que utiliza\n",
    "una computadora junto con las representaciones enteras de los caracteres se\n",
    "denomina conjunto de caracteres de esa computadora. Puede indicar el valor\n",
    "de un carácter en un programa encerrando ese carácter entre comillas, como\n",
    "en 'A'. Para determinar el valor entero de un carácter, llame a la función\n",
    "integrada ord:\n",
    "\n",
    "Muestra los equivalentes enteros de B C D b c d 0 1 2 $ * +\n",
    "y el carácter de espacio.\"\"\"\n",
    "\n",
    "print(ord('B'), ord('C'), ord('D'), ord('b'), ord('c'), ord('d'), ord('0'), ord('1'), ord('2'), ord('$'), ord('*'), ord('+'), ord(' '))"
   ]
  },
  {
   "cell_type": "code",
   "execution_count": 27,
   "metadata": {},
   "outputs": [
    {
     "name": "stdout",
     "output_type": "stream",
     "text": [
      "La suma de los números 4, 3 y 2 es: 9\n",
      "El promedio de los números 4, 3 y 2 es: 3.0\n",
      "El producto de los números 4, 3 y 2 es: 24\n",
      "El mayor de los numeros 4, 3 y 2 es: 4\n",
      "El menor de los numeros 4, 3 y 2 es: 2\n"
     ]
    }
   ],
   "source": [
    "# Ejercicio 10\n",
    "\"\"\"Escriba un script(guión) que ingrese tres números enteros desde el\n",
    "usuario. Muestre la suma, el promedio, el producto, el menor y el\n",
    "mayor de los 3 números. Tenga en cuenta que cada uno de estos es\n",
    "una reducción en la programación de estilo funcional.\"\"\"\n",
    "\n",
    "num1 = int(input(\"Ingrese el primer número: \"))\n",
    "num2 = int(input(\"Ingrese el segundo número: \"))\n",
    "num3 = int(input(\"Ingrese el tercer número: \"))\n",
    "\n",
    "suma = num1 + num2 + num3\n",
    "\n",
    "mayor = num1\n",
    "if num2 > mayor:\n",
    "    mayor = num2\n",
    "\n",
    "if num3 > mayor:\n",
    "    mayor = num3\n",
    "\n",
    "menor = num1\n",
    "if num2 < menor:\n",
    "    menor = num2\n",
    "\n",
    "if num3 < menor:\n",
    "    menor = num3\n",
    "\n",
    "print(f\"La suma de los números {num1}, {num2} y {num3} es: {suma}\")\n",
    "print(f\"El promedio de los números {num1}, {num2} y {num3} es: {suma / 3}\")\n",
    "print(f\"El producto de los números {num1}, {num2} y {num3} es: {num1 * num2 * num3}\")\n",
    "print(f\"El mayor de los numeros {num1}, {num2} y {num3} es: {mayor}\")\n",
    "print(f\"El menor de los numeros {num1}, {num2} y {num3} es: {menor}\")"
   ]
  },
  {
   "cell_type": "code",
   "execution_count": 35,
   "metadata": {},
   "outputs": [
    {
     "name": "stdout",
     "output_type": "stream",
     "text": [
      "5   9   3   6   2\n"
     ]
    }
   ],
   "source": [
    "# Ejercicio 11\n",
    "\"\"\"Escriba un script que ingrese un número entero de cinco dígitos\n",
    "desde el usuario. Separa el número en sus dígitos individuales.\n",
    "Imprímelos separados por tres espacios cada uno.\"\"\"\n",
    "\n",
    "num = int(input(\"Ingrese un número entero de 5 dígitos: \"))\n",
    "print(f\"{num // 10000}   {num // 1000 % 10}   {num // 100 % 10}   {num // 10 % 10}   {num % 10}\")"
   ]
  },
  {
   "cell_type": "code",
   "execution_count": 36,
   "metadata": {},
   "outputs": [
    {
     "name": "stdout",
     "output_type": "stream",
     "text": [
      "El monto depositado al final de 10 años es: 196715.13572895664\n"
     ]
    }
   ],
   "source": [
    "# Ejercicio 12\n",
    "\"\"\"Algunos asesores de inversión afirman que es razonable esperar una\n",
    "rentabilidad del 7% a largo plazo en el mercado de valores.\n",
    "Suponiendo que empiezas con $100,000.00 y dejas tu dinero\n",
    "invertido, calcula y visualiza cuánto dinero tendrás al cabo de 10, 20\n",
    "y 30 años. Utiliza la siguiente fórmula para determinar estas\n",
    "cantidades\n",
    "\n",
    "Donde a = p(1 + r)^n\n",
    "\n",
    "p es la cantidad original invertida(es decir, el capital de $100,000.00)\n",
    "r es la tasa de rendimiento anual(7%)\n",
    "n es el número de años(10, 20 o 30) y\n",
    "a es el monto depositado al final del enésimo año.\"\"\"\n",
    "\n",
    "p = 100000.00\n",
    "r = 0.07\n",
    "n = 10\n",
    "a = p * (1 + r) ** n\n",
    "print(f\"El monto depositado al final de {n} años es: {a}\")"
   ]
  },
  {
   "cell_type": "code",
   "execution_count": 17,
   "metadata": {},
   "outputs": [
    {
     "data": {
      "text/plain": [
       "16348882026418884500769930244103894955306281949370293515476429092192709460396862624368687166013598996293646270968550335376357427824042398139614355213491159834127805584544793156850782502337785489498910231667138007010824072884064894227616302797366144977977729325827219306090733185055024912317448705511823774899781879511077724089160906577345596811357897980545868080711117059752443691718880394663194723303262352575826368192202582850965536318699311796965038682566625200246301569743656177229466067043918863570691391594141537288047184680795433558948933487851885650765652558409719940301965167059429236226233528329234569634830123813041430000610260341171198154218038977149396071242759854657345414444083006080412672273592559414645182602361357839603117659290834075584334508977498929420108985631546330705566383731380280711145668944802900547626411223214441100870395939584933031381758087002599912701600343042652974975690988890312887948936006619047603269456156893363494553353120165187967629356635405047311122098162495623487080880165649338864646761811529295138859587626829990382452134605092275026721792253539269693620714911868558700254908011994908101031919216796508785317417511747712908969918736376885716679343980981659265297817034219350196457611032949942087387367477332900218742606280661069360384991705903819839172321421282962735477938084860915279181494447592556577242572613736637454802439565973043840402661564944586694063443670692167536130205257832745249446347975113335006712067985388909098047052274870596236617709498731366420809635424808752540077065257764542456049876965009690536059753742395178864212388553005033131678866523710167110974134915095433073246602557870353195452402710241372098199318788137581039309282512541644738053528150156110086543038278913347662804422508219612534041364773824721213477065628361050859764933554973523472612983635657539153456137818074153724892567426610794964619465428569846793962642302230373044918234427124932768835857273622475968109319168294904517558431970391762906017033326167058327368262637761637091721000976996812587341581920356760742051610403712003412358312120489035331335502467645842245309471252568869623050056566607013602574458372544994069210806255667535311914309215617074542877311211246106147877254286462952425712276671810159404549266247223196531288115560862818484158223596936130266597289520526765901189216616755798099269308172865976049062658913263629829547083594016647159698563739540431692448131257203803682685591195611283229029299619093359011116883449546857078821228785123260431529369646658901757529182414950993293662617800210835097314675944829747231446304303794823710046232154835268941834845928323713627318895528940958371362930985258979186673651149701387042023759269593591181057011498788869986497872375764658943701361630664461798997598344351217839190818458937827772024741935101206766938121173839233777141908131001217561375311197917562633213640313376859368710364384387265450698945096757704666951821783920596653585887601908622083680464699379202130437871615141490202989148171446613058323572517496715958241929709137974466910500545953741340610671155559252238870990825947938780710174391168499375448670892086607251878953190732211665330088747487982604647233439339381173821768519126506467578316277733148644892624668705931955838884788724833863192943273066389565131275613723442514992934583064528537354689242091856867835611419204858841459125168647094029400066687253530318284824221239388789504085586411873440650671832603803604834161823425075666661381915483204448525844180804244048661293084143980729718413581004336548998037479534534223069498837146944289782658214819951134629489268968714318015791838736677938289567664854356808210689897605847372699100387878652446136769049148154835793566263272886056783789755971685241330979603519218038069174201310805766391951364396133524682994540466853962902024290037280996374707279566599790937429840266076314009692393533293913112626469357398479133748351712796649929099305238602694441483493810850292613884456887350687767585705938678642077923880721271521774389136525604073563209251842551643639877565823588978782705530417584842252345875715438478095326985426171297674650111422488732438130429214005724080765098942088558947888205674521215837450714923844003531695805709763831283355002870330239078539866069692878980905594460419172567437016491768494783320531646021632"
      ]
     },
     "execution_count": 17,
     "metadata": {},
     "output_type": "execute_result"
    }
   ],
   "source": [
    "# Ejercicio 13 \n",
    "\"\"\"Use el operador de exponenciación ** con exponentes grandes, pero\n",
    "muy grandes para producir algunos números enteros enormes y asígnelo\n",
    "a la variable número para ver si Python los acepta. ¿Encontraste algún\n",
    "valor entero que Python no acepte?\"\"\"\n",
    "\n",
    "import sys\n",
    "\n",
    "sys.set_int_max_str_digits(4400) # Cambiar el limite de la cantidad de digitos\n",
    "\n",
    "numero = 2 ** 14285 # 14284 es el limite de la cantidad de digitos (default 4300 digitos)\n",
    "numero"
   ]
  },
  {
   "cell_type": "code",
   "execution_count": 39,
   "metadata": {},
   "outputs": [
    {
     "name": "stdout",
     "output_type": "stream",
     "text": [
      "El último dígito del número 252342 es 2\n"
     ]
    }
   ],
   "source": [
    "# Ejercicio 14\n",
    "\"\"\"El usuario ingresa un número x tal que regresara el último dígito\n",
    "de ese número(utilizar la función print()). Pista: utilizar el\n",
    "operador de residuo(%).\n",
    "Por ejemplo, los datos de salida de su programa debe ser de la\n",
    "siguiente forma:\n",
    "\n",
    "Ingrese un numero para regresar el último dígito: 325\n",
    "El último dígito del número 325 es 5\n",
    "\n",
    "Ingrese un numero para regresar el último dígito: 9045768\n",
    "El último dígito del número 9045768 es 8\"\"\"\n",
    "\n",
    "num = int(input(\"Ingrese un numero para regresar al último dígito: \"))\n",
    "\n",
    "print(f\"El último dígito del número {num} es {num % 10}\")"
   ]
  },
  {
   "cell_type": "code",
   "execution_count": 42,
   "metadata": {},
   "outputs": [
    {
     "name": "stdout",
     "output_type": "stream",
     "text": [
      "El numero menor es: -0.9999\n"
     ]
    }
   ],
   "source": [
    "# Ejercicio 15\n",
    "\"\"\"Se le solicita al usuario ingresar 3 valores(números enteros o de\n",
    "punto flotante) y como resultado muestra el número menor de esos\n",
    "tres valores.\"\"\"\n",
    "\n",
    "num1 = float(input(\"Ingrese el primer número: \"))\n",
    "num2 = float(input(\"Ingrese el segundo número: \"))\n",
    "num3 = float(input(\"Ingrese el tercer número: \"))\n",
    "\n",
    "menor = num1\n",
    "if num2 < menor:\n",
    "    menor = num2\n",
    "\n",
    "if num3 < menor:\n",
    "    menor = num3\n",
    "\n",
    "print(f\"El numero menor es: {menor}\")"
   ]
  },
  {
   "cell_type": "code",
   "execution_count": 5,
   "metadata": {},
   "outputs": [
    {
     "name": "stdout",
     "output_type": "stream",
     "text": [
      "Los valores 3.0, 2.0 y 1.0 no son iguales.\n"
     ]
    }
   ],
   "source": [
    "# Ejercicio 16 ### INCOMPLETO\n",
    "\"\"\"Se le solicita al usuario ingresar 3 valores(números enteros o de punto\n",
    "flotante) y como resultado de salida muestra si estos tres valores\n",
    "ingresados son iguales o no.\"\"\"\n",
    "\n",
    "num1 = float(input(\"Ingrese el primer número: \"))\n",
    "num2 = float(input(\"Ingrese el segundo número: \"))\n",
    "num3 = float(input(\"Ingrese el tercer número: \"))\n",
    "\n",
    "if num1 == num2:\n",
    "    if num2 == num3:\n",
    "        print(f\"Los valores {num1}, {num2} y {num3} son iguales.\")\n",
    "\n",
    "if num1 == num2:\n",
    "    if num2 != num3:\n",
    "        print(f\"Los valores {num1}, {num2} y {num3} no son iguales.\")\n",
    "\n",
    "if num1 != num2:\n",
    "    print(f\"Los valores {num1}, {num2} y {num3} no son iguales.\")\n"
   ]
  },
  {
   "cell_type": "code",
   "execution_count": 11,
   "metadata": {},
   "outputs": [
    {
     "name": "stdout",
     "output_type": "stream",
     "text": [
      "El orden de los números de forma ascendente son: 2.0, 3.0, 3.0\n"
     ]
    }
   ],
   "source": [
    "# Ejercicio 17 ### INCOMPLETO\n",
    "\"\"\"(if anidados)Escriba un script que ingrese tres números diferentes de\n",
    "punto flotante desde el usuario. Muestre los números en orden\n",
    "creciente. Recuerde que el conjunto de declaraciones if puede contener\n",
    "más de una declaración. Demuestre que su script funciona ejecutándolo\n",
    "en los seis ordenamientos posibles de los números. ¿Su script funciona\n",
    "con números duplicados? [Esto es un desafío. En clases posteriores lo\n",
    "harás de manera más conveniente y con muchos más números.]\"\"\"\n",
    "\n",
    "num1 = float(input(\"Ingrese el primer número: \"))\n",
    "num2 = float(input(\"Ingrese el segundo número: \"))\n",
    "num3 = float(input(\"Ingrese el tercer número: \"))\n",
    "\n",
    "if num1 <= num2:\n",
    "    if num2 <= num3:\n",
    "        print(f\"El orden de los números de forma ascendente son: {num1}, {num2}, {num3}\")\n",
    "    if num3 < num2:\n",
    "        if num1 <= num3:\n",
    "            print(f\"El orden de los números de forma ascendente son: {num1}, {num3}, {num2}\")\n",
    "        if num3 < num1:\n",
    "            print(f\"El orden de los números de forma ascendente son: {num3}, {num1}, {num2}\")\n",
    "\n",
    "if num2 < num1:\n",
    "    if num1 <= num3:\n",
    "        print(f\"El orden de los números de forma ascendente son: {num2}, {num1}, {num3}\")\n",
    "    if num3 < num1:\n",
    "        if num2 <= num3:\n",
    "            print(f\"El orden de los números de forma ascendente son: {num2}, {num3}, {num1}\")\n",
    "        if num3 < num2:\n",
    "            print(f\"El orden de los números de forma ascendente son: {num3}, {num2}, {num1}\")"
   ]
  },
  {
   "cell_type": "code",
   "execution_count": 25,
   "metadata": {},
   "outputs": [
    {
     "name": "stdout",
     "output_type": "stream",
     "text": [
      "Se llenaron 4 carteras de 6 huevos.\n",
      "En la ultima cartera se colocaron 4 huevos.\n",
      "La cantidad de huevos adicionales que se necesitan para llenar la ultima cartera es de: 2.\n"
     ]
    }
   ],
   "source": [
    "# Ejercicio: Huevos por cartera\n",
    "\"\"\"Normalmente caben 6 huevos en una cartera. Escribe un script para\n",
    "calcular la cantidad de cajas que necesita un granjero para almacenar 28\n",
    "huevos. El script también determinará cuántos huevos se colocan en la\n",
    "última cartera sin completar y cuántos huevos adicionales se necesitan\n",
    "para llenar esta última cartera.\"\"\"\n",
    "\n",
    "huevos_obtenidos = int(input(\"Ingresar la cantidad de huevos obtenidos: \"))\n",
    "huevos_por_cartera = int(input(\"La cantidad de huevos que se necesitan para llenar una cartera es de: \"))\n",
    "\n",
    "carteras_llenas = huevos_obtenidos // huevos_por_cartera\n",
    "huevos_restantes = huevos_obtenidos % huevos_por_cartera\n",
    "\n",
    "huevos_adicionales = 0\n",
    "if huevos_restantes > 0:\n",
    "    huevos_adicionales = huevos_por_cartera - huevos_restantes\n",
    "\n",
    "if carteras_llenas >= 1:\n",
    "    print(f\"Se llenaron {carteras_llenas} carteras de {huevos_por_cartera} huevos.\")\n",
    "\n",
    "if huevos_restantes == 1:\n",
    "    print(f\"En la ultima cartera se coloco {huevos_restantes} huevo.\")\n",
    "if huevos_restantes > 1:\n",
    "    print(f\"En la ultima cartera se colocaron {huevos_restantes} huevos.\")\n",
    "\n",
    "if huevos_adicionales >= 1:\n",
    "    print(f\"La cantidad de huevos adicionales que se necesitan para llenar la ultima cartera es de: {huevos_adicionales}.\")\n"
   ]
  }
 ],
 "metadata": {
  "kernelspec": {
   "display_name": "Python 3 (ipykernel)",
   "language": "python",
   "name": "python3"
  },
  "language_info": {
   "codemirror_mode": {
    "name": "ipython",
    "version": 3
   },
   "file_extension": ".py",
   "mimetype": "text/x-python",
   "name": "python",
   "nbconvert_exporter": "python",
   "pygments_lexer": "ipython3",
   "version": "3.11.5"
  }
 },
 "nbformat": 4,
 "nbformat_minor": 2
}
