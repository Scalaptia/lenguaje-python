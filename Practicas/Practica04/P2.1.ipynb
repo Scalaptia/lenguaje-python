{
 "cells": [
  {
   "cell_type": "code",
   "execution_count": 1,
   "metadata": {},
   "outputs": [
    {
     "name": "stdout",
     "output_type": "stream",
     "text": [
      "El numero es impar\n"
     ]
    }
   ],
   "source": [
    "num = int(input(\"Ingresa un numero entero: \"))\n",
    "\n",
    "if (num % 2) == 0:\n",
    "    print(f\"El numero {num} es par\")\n",
    "else:\n",
    "    print(f\"El numero {num} es impar\")"
   ]
  },
  {
   "cell_type": "code",
   "execution_count": 31,
   "metadata": {},
   "outputs": [
    {
     "name": "stdout",
     "output_type": "stream",
     "text": [
      "4 es multiplo de 1024\n"
     ]
    }
   ],
   "source": [
    "num1 = int(input(\"Ingresa el primer numero entero: \"))\n",
    "num2 = int(input(\"Ingresa el segundo numero entero: \"))\n",
    "\n",
    "if (num1 > num2):\n",
    "    temp = num1\n",
    "    num1 = num2\n",
    "    num2 = temp\n",
    "\n",
    "if (num2 % num1 == 0):\n",
    "    print(f\"{num1} es multiplo de {num2}\")\n",
    "else:\n",
    "    print(f\"{num1} no es multiplo de {num2}\")"
   ]
  },
  {
   "cell_type": "code",
   "execution_count": 22,
   "metadata": {},
   "outputs": [
    {
     "name": "stdout",
     "output_type": "stream",
     "text": [
      "Los valores 2, 2 y 3 no son iguales\n"
     ]
    }
   ],
   "source": [
    "num1 = int(input(\"Ingresa el primer numero entero:\"))\n",
    "num2 = int(input(\"Ingresa el segundo numero entero:\"))\n",
    "num3 = int(input(\"Ingresa el tercer numero entero:\"))\n",
    "\n",
    "if (num1 == num2 == num3):\n",
    "    print(f\"Los valores {num1}, {num2} y {num3} son iguales\")\n",
    "else:\n",
    "    print(f\"Los valores {num1}, {num2} y {num3} no son iguales\")\n",
    "    "
   ]
  },
  {
   "cell_type": "code",
   "execution_count": 1,
   "metadata": {},
   "outputs": [
    {
     "name": "stdout",
     "output_type": "stream",
     "text": [
      "A\n"
     ]
    }
   ],
   "source": [
    "calif = int(input(\"Ingresa tu calificacion: \"))\n",
    "\n",
    "if (calif >= 90):\n",
    "    print(\"A\")\n",
    "elif (calif >= 80):\n",
    "    print(\"B\")\n",
    "elif (calif >= 70):\n",
    "    print(\"C\")\n",
    "elif (calif >= 60):\n",
    "    print(\"D\")\n",
    "else:\n",
    "    print(\"F\")"
   ]
  },
  {
   "cell_type": "code",
   "execution_count": null,
   "metadata": {},
   "outputs": [],
   "source": [
    "calif = int(input(\"Ingresa tu calificacion: \"))\n",
    "\n",
    "if (calif >= 80):\n",
    "    if (calif) >= 90:\n",
    "        print(\"A\")\n",
    "    else:\n",
    "        print(\"B\")\n",
    "else:\n",
    "    if (calif >= 70):\n",
    "        print(\"C\")\n",
    "    else:\n",
    "        if (calif >= 60):\n",
    "            print(\"D\")\n",
    "        else:\n",
    "            print(\"F\")"
   ]
  }
 ],
 "metadata": {
  "kernelspec": {
   "display_name": "Python 3 (ipykernel)",
   "language": "python",
   "name": "python3"
  },
  "language_info": {
   "codemirror_mode": {
    "name": "ipython",
    "version": 3
   },
   "file_extension": ".py",
   "mimetype": "text/x-python",
   "name": "python",
   "nbconvert_exporter": "python",
   "pygments_lexer": "ipython3",
   "version": "3.11.5"
  }
 },
 "nbformat": 4,
 "nbformat_minor": 2
}
