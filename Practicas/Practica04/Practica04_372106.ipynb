{
 "cells": [
  {
   "cell_type": "code",
   "execution_count": 2,
   "metadata": {},
   "outputs": [
    {
     "name": "stdout",
     "output_type": "stream",
     "text": [
      "1\n",
      "2\n",
      "3\n",
      "4\n",
      "5\n"
     ]
    }
   ],
   "source": [
    "i = 1 \n",
    "\n",
    "while i <= 5:\n",
    "    print(i)\n",
    "    i+=1"
   ]
  },
  {
   "cell_type": "code",
   "execution_count": 3,
   "metadata": {},
   "outputs": [
    {
     "name": "stdout",
     "output_type": "stream",
     "text": [
      "5\n",
      "4\n",
      "3\n",
      "2\n",
      "1\n"
     ]
    }
   ],
   "source": [
    "i = 5\n",
    "\n",
    "while i >= 1:\n",
    "    print(i)\n",
    "    i-=1"
   ]
  },
  {
   "cell_type": "code",
   "execution_count": 10,
   "metadata": {},
   "outputs": [
    {
     "name": "stdout",
     "output_type": "stream",
     "text": [
      "1, 2, 3, 4, 5"
     ]
    }
   ],
   "source": [
    "i = 1\n",
    "\n",
    "while i <= 5:\n",
    "    if i == 5:\n",
    "        print(i, end=\"\")\n",
    "    else:\n",
    "        print(i, end=\", \")\n",
    "    i += 1\n"
   ]
  },
  {
   "cell_type": "code",
   "execution_count": 9,
   "metadata": {},
   "outputs": [
    {
     "name": "stdout",
     "output_type": "stream",
     "text": [
      "5, 4, 3, 2, 1"
     ]
    }
   ],
   "source": [
    "i = 5\n",
    "\n",
    "while i >= 1:\n",
    "    if i == 1:\n",
    "        print(i, end=\"\")\n",
    "    else:    \n",
    "        print(i, end=\", \")\n",
    "    i -= 1"
   ]
  },
  {
   "cell_type": "code",
   "execution_count": 13,
   "metadata": {},
   "outputs": [
    {
     "name": "stdout",
     "output_type": "stream",
     "text": [
      "5050\n"
     ]
    }
   ],
   "source": [
    "num = int(input(\"Ingrese un número entero para obtener la sumatoria de: \"))\n",
    "\n",
    "sum = 0\n",
    "i = 0\n",
    "while i <= num:\n",
    "    sum += i\n",
    "    i += 1\n",
    "\n",
    "print(sum)\n"
   ]
  },
  {
   "cell_type": "code",
   "execution_count": 21,
   "metadata": {},
   "outputs": [
    {
     "name": "stdout",
     "output_type": "stream",
     "text": [
      "♥ ♥ ♥ ♥ ♥ ♥ ♥ ♥ ♥ ♥ ♥ ♥ ♥ ♥ ♥ ♥ \n",
      "♥ ♥ ♥ ♥ ♥ ♥ ♥ ♥ ♥ ♥ ♥ ♥ ♥ ♥ ♥ ♥ \n",
      "♥ ♥ ♥ ♥ ♥ ♥ ♥ ♥ ♥ ♥ ♥ ♥ ♥ ♥ ♥ ♥ \n",
      "♥ ♥ ♥ ♥ ♥ ♥ ♥ ♥ ♥ ♥ ♥ ♥ ♥ ♥ ♥ ♥ \n",
      "♥ ♥ ♥ ♥ ♥ ♥ ♥ ♥ ♥ ♥ ♥ ♥ ♥ ♥ ♥ ♥ \n",
      "♥ ♥ ♥ ♥ ♥ ♥ ♥ ♥ ♥ ♥ ♥ ♥ ♥ ♥ ♥ ♥ \n",
      "♥ ♥ ♥ ♥ ♥ ♥ ♥ ♥ ♥ ♥ ♥ ♥ ♥ ♥ ♥ ♥ \n",
      "♥ ♥ ♥ ♥ ♥ ♥ ♥ ♥ ♥ ♥ ♥ ♥ ♥ ♥ ♥ ♥ \n",
      "♥ ♥ ♥ ♥ ♥ ♥ ♥ ♥ ♥ ♥ ♥ ♥ ♥ ♥ ♥ ♥ \n",
      "♥ ♥ ♥ ♥ ♥ ♥ ♥ ♥ ♥ ♥ ♥ ♥ ♥ ♥ ♥ ♥ \n",
      "\n"
     ]
    }
   ],
   "source": [
    "renglon = 0\n",
    "maximo_renglon = 10\n",
    "maximo_columna = 16\n",
    "cadena_renglon_columna = ''\n",
    "\n",
    "while renglon < maximo_renglon:\n",
    "    columna = 0\n",
    "    while columna < maximo_columna:\n",
    "        cadena_renglon_columna += '♥' + ' ' # Debe sumar a la cadena, no remplazarla\n",
    "        columna = columna + 1\n",
    "    cadena_renglon_columna = cadena_renglon_columna + '\\n'\n",
    "    renglon = renglon + 1\n",
    "print(cadena_renglon_columna)"
   ]
  },
  {
   "cell_type": "code",
   "execution_count": 6,
   "metadata": {},
   "outputs": [
    {
     "name": "stdout",
     "output_type": "stream",
     "text": [
      "*********************\n",
      "*Fernando Haro Calvo*\n",
      "*********************\n"
     ]
    }
   ],
   "source": [
    "nombre = input(\"Ingrese su nombre completo: \")\n",
    "caracter = input(\"Teclee un solo caractér que será su marco alrededor del nombre: \")\n",
    "\n",
    "borde = ''\n",
    "i = 0\n",
    "\n",
    "while i <= len(nombre) + 1:\n",
    "    borde += caracter \n",
    "    i += 1\n",
    "\n",
    "print(f\"{borde}\\n{caracter}{nombre}{caracter}\\n{borde}\")"
   ]
  },
  {
   "cell_type": "code",
   "execution_count": 1,
   "metadata": {},
   "outputs": [
    {
     "name": "stdout",
     "output_type": "stream",
     "text": [
      "              *              \n",
      "             ***             \n",
      "            *****            \n",
      "           *******           \n",
      "          *********          \n",
      "         ***********         \n",
      "        *************        \n",
      "       ***************       \n",
      "      *****************      \n",
      "     *******************     \n",
      "    *********************    \n",
      "   ***********************   \n",
      "  *************************  \n",
      " *************************** \n",
      "*****************************\n",
      " *************************** \n",
      "  *************************  \n",
      "   ***********************   \n",
      "    *********************    \n",
      "     *******************     \n",
      "      *****************      \n",
      "       ***************       \n",
      "        *************        \n",
      "         ***********         \n",
      "          *********          \n",
      "           *******           \n",
      "            *****            \n",
      "             ***             \n",
      "              *              \n"
     ]
    }
   ],
   "source": [
    "longitud = int(input(\"Ingrese un número impar para establecer la longitud horizontal más larga del rombo: \"))\n",
    "caracter = input(\"Ingrese el carácter que tendrá el rombo: \")\n",
    "\n",
    "i = 1\n",
    "medio = int(longitud / 2)\n",
    "\n",
    "# Parte superior\n",
    "while i < longitud:\n",
    "    blank = ' ' * medio\n",
    "    print(f\"{blank}{caracter * i}{blank}\")\n",
    "    medio -= 1\n",
    "    i += 2\n",
    "\n",
    "# Parte inferior\n",
    "while i > 0:\n",
    "    blank = ' ' * medio\n",
    "    print(f\"{blank}{caracter * i}{blank}\")\n",
    "    medio += 1\n",
    "    i -= 2\n",
    "\n"
   ]
  },
  {
   "cell_type": "code",
   "execution_count": null,
   "metadata": {},
   "outputs": [],
   "source": []
  }
 ],
 "metadata": {
  "kernelspec": {
   "display_name": "Python 3 (ipykernel)",
   "language": "python",
   "name": "python3"
  },
  "language_info": {
   "codemirror_mode": {
    "name": "ipython",
    "version": 3
   },
   "file_extension": ".py",
   "mimetype": "text/x-python",
   "name": "python",
   "nbconvert_exporter": "python",
   "pygments_lexer": "ipython3",
   "version": "3.11.5"
  }
 },
 "nbformat": 4,
 "nbformat_minor": 2
}
