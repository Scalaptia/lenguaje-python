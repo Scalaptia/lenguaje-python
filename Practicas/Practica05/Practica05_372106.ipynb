{
 "cells": [
  {
   "cell_type": "code",
   "execution_count": 28,
   "metadata": {},
   "outputs": [
    {
     "name": "stdout",
     "output_type": "stream",
     "text": [
      "1\n",
      "2\n",
      "3\n",
      "4\n",
      "5\n",
      "1\n",
      "2\n",
      "3\n",
      "4\n",
      "5\n",
      "1\n",
      "2\n",
      "3\n",
      "4\n",
      "5\n"
     ]
    }
   ],
   "source": [
    "# Forma 1\n",
    "for i in range(1, 6):\n",
    "    print(i)\n",
    "# Forma 2\n",
    "for i in [1, 2, 3, 4, 5]:\n",
    "    print(i)\n",
    "# Forma 3\n",
    "for i in \"12345\":\n",
    "    print(i)"
   ]
  },
  {
   "cell_type": "code",
   "execution_count": 6,
   "metadata": {},
   "outputs": [
    {
     "name": "stdout",
     "output_type": "stream",
     "text": [
      "5\n",
      "4\n",
      "3\n",
      "2\n",
      "1\n"
     ]
    }
   ],
   "source": [
    "# Forma 1\n",
    "for i in range(5, 0, -1):\n",
    "    print(i)\n",
    "# Forma 2\n",
    "for i in [5, 4, 3, 2, 1]:\n",
    "    print(i)\n",
    "# Forma 3\n",
    "for i in \"54321\":\n",
    "    print(i)"
   ]
  },
  {
   "cell_type": "code",
   "execution_count": 27,
   "metadata": {},
   "outputs": [
    {
     "name": "stdout",
     "output_type": "stream",
     "text": [
      "1, 2, 3, 4, 5\n",
      "1, 2, 3, 4, 5\n",
      "1, 2, 3, 4, 5\n"
     ]
    }
   ],
   "source": [
    "# Forma 1\n",
    "for i in range(1, 6):\n",
    "    if i == 5:\n",
    "        print(i)\n",
    "    else:\n",
    "        print(i, end=\", \")\n",
    "\n",
    "# Forma 2\n",
    "for i in [1, 2, 3, 4, 5]:\n",
    "    if i == 5:\n",
    "        print(i)\n",
    "    else:\n",
    "        print(i, end=\", \")\n",
    "\n",
    "# Forma 3\n",
    "for i in \"12345\":\n",
    "    if i == \"5\":\n",
    "        print(i)\n",
    "    else:\n",
    "        print(i, end=\", \")\n"
   ]
  },
  {
   "cell_type": "code",
   "execution_count": 32,
   "metadata": {},
   "outputs": [
    {
     "name": "stdout",
     "output_type": "stream",
     "text": [
      "5, 4, 3, 2, 1\n",
      "5, 4, 3, 2, 1\n",
      "5, 4, 3, 2, 1\n"
     ]
    }
   ],
   "source": [
    "# Forma 1\n",
    "for i in range(5, 0, -1):\n",
    "    if i == 1:\n",
    "        print(i)\n",
    "    else:\n",
    "        print(i, end=\", \")\n",
    "\n",
    "# Forma 2\n",
    "for i in [5, 4, 3, 2, 1]:\n",
    "    if i == 1:\n",
    "        print(i)\n",
    "    else:\n",
    "        print(i, end=\", \")\n",
    "# Forma 1\n",
    "for i in \"54321\":\n",
    "    if i == '1':\n",
    "        print(i)\n",
    "    else:\n",
    "        print(i, end=\", \")"
   ]
  },
  {
   "cell_type": "code",
   "execution_count": 11,
   "metadata": {},
   "outputs": [
    {
     "name": "stdout",
     "output_type": "stream",
     "text": [
      "5050\n"
     ]
    }
   ],
   "source": [
    "# Forma 1\n",
    "acum = 0\n",
    "num = int(input(\"Ingrese un número entero para obtener la sumatoria de: \"))\n",
    "\n",
    "for contador in range(num + 1):\n",
    "    acum += contador\n",
    "\n",
    "print(acum)"
   ]
  },
  {
   "cell_type": "code",
   "execution_count": null,
   "metadata": {},
   "outputs": [],
   "source": []
  }
 ],
 "metadata": {
  "kernelspec": {
   "display_name": "Python 3 (ipykernel)",
   "language": "python",
   "name": "python3"
  },
  "language_info": {
   "codemirror_mode": {
    "name": "ipython",
    "version": 3
   },
   "file_extension": ".py",
   "mimetype": "text/x-python",
   "name": "python",
   "nbconvert_exporter": "python",
   "pygments_lexer": "ipython3",
   "version": "3.11.5"
  }
 },
 "nbformat": 4,
 "nbformat_minor": 2
}
