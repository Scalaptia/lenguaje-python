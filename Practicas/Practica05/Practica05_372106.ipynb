{
 "cells": [
  {
   "cell_type": "code",
   "execution_count": 1,
   "metadata": {},
   "outputs": [
    {
     "name": "stdout",
     "output_type": "stream",
     "text": [
      "Horas\tNúmero de bacterias\n",
      "0\t200\n",
      "5\t6400\n",
      "10\t204800\n",
      "15\t6553600\n",
      "\n",
      "Horas\tNúmero de bacterias\n",
      "    0\t                200\n",
      "    5\t               6400\n",
      "   10\t             204800\n",
      "   15\t            6553600\n"
     ]
    }
   ],
   "source": [
    "# Ejercicio 30 Tabla con número de bacterias\n",
    "\n",
    "# Primera implementación\n",
    "print(f\"Horas\\tNúmero de bacterias\")\n",
    "\n",
    "for n in range(0, 16, 5):\n",
    "    bacterias = 200 * 2 ** n\n",
    "    print(n, \"\\t\", bacterias, sep=\"\")\n",
    "\n",
    "# Segunda implementación    \n",
    "print(f\"\\nHoras\\tNúmero de bacterias\")\n",
    "\n",
    "for n in range(0, 16, 5):\n",
    "    bacterias = 200 * 2 ** n\n",
    "    print(f\"{n:5}\\t {bacterias:18}\", sep=\"\")"
   ]
  },
  {
   "cell_type": "code",
   "execution_count": 8,
   "metadata": {},
   "outputs": [
    {
     "name": "stdout",
     "output_type": "stream",
     "text": [
      "1 - 2 - 30\n"
     ]
    }
   ],
   "source": [
    "# Ejercicio 31 (sin bucle o ciclo)\n",
    "\n",
    "segundos = int(input(\"Ingresar el tiempo en segundos: \"))\n",
    "minutos = segundos // 60\n",
    "horas = minutos // 60\n",
    "minutos = minutos % 60\n",
    "segundos = segundos % 60\n",
    "\n",
    "print(horas, minutos, segundos, sep=\" - \")"
   ]
  },
  {
   "cell_type": "code",
   "execution_count": 11,
   "metadata": {},
   "outputs": [
    {
     "name": "stdout",
     "output_type": "stream",
     "text": [
      "1 - 2 - 30\n"
     ]
    }
   ],
   "source": [
    "# Ejercicio 32 Cálculo del tiempo (con bucle o ciclo)\n",
    "\n",
    "segundos = int(input(\"Ingresar el tiempo en segundos: \"))\n",
    "\n",
    "for tiempo in [3600, 60, 1]:\n",
    "    cantidad = segundos // tiempo\n",
    "\n",
    "    if tiempo == 1:\n",
    "        print(cantidad)\n",
    "    else:\n",
    "        print(cantidad, end=\" - \")\n",
    "        \n",
    "    segundos = segundos % tiempo"
   ]
  },
  {
   "cell_type": "code",
   "execution_count": 15,
   "metadata": {},
   "outputs": [
    {
     "name": "stdout",
     "output_type": "stream",
     "text": [
      "El número 8128 es un número perfecto\n"
     ]
    }
   ],
   "source": [
    "# Ejercicio 33 Números perfectos\n",
    "\n",
    "num = int(input(\"Ingrese un número entero positivo para saber si es un número perfecto: \"))\n",
    "\n",
    "suma = 0\n",
    "\n",
    "for i in range(1, num):\n",
    "    if num % i == 0:\n",
    "        suma += i\n",
    "\n",
    "if suma == num:\n",
    "    print(f\"El número {num} es un número perfecto\")\n",
    "else:\n",
    "    print(f\"El número {num} no es un número perfecto\")"
   ]
  },
  {
   "cell_type": "code",
   "execution_count": 28,
   "metadata": {},
   "outputs": [
    {
     "name": "stdout",
     "output_type": "stream",
     "text": [
      "El número binario 1010 en decimal es 10\n"
     ]
    }
   ],
   "source": [
    "# Ejercicio 34 Conversión de binario a decimal\n",
    "\n",
    "num = input(\"Ingrese el número binario: \")\n",
    "\n",
    "decimal = 0\n",
    "longitud = len(num)\n",
    "\n",
    "for i in range(longitud):\n",
    "        digito = int(num[longitud - i - 1])\n",
    "        decimal += digito * (2 ** i)\n",
    "\n",
    "print(f\"El número binario {num} en decimal es {decimal}\")\n"
   ]
  },
  {
   "cell_type": "code",
   "execution_count": 31,
   "metadata": {},
   "outputs": [
    {
     "name": "stdout",
     "output_type": "stream",
     "text": [
      "El número entero 0 en binario es 1101\n"
     ]
    }
   ],
   "source": [
    "# Ejercicio 35 Conversión de decimal a binario\n",
    "\n",
    "num = int(input(\"Ingrese el número decimal: \"))\n",
    "binario = \"\"\n",
    "\n",
    "while num > 0:\n",
    "    binario = str(num % 2) + binario\n",
    "    num = num // 2\n",
    "\n",
    "print(f\"El número entero {num} en binario es {binario}\")"
   ]
  },
  {
   "cell_type": "code",
   "execution_count": 33,
   "metadata": {},
   "outputs": [
    {
     "name": "stdout",
     "output_type": "stream",
     "text": [
      "El número 1313 no es capicúa\n"
     ]
    }
   ],
   "source": [
    "# Ejercicio 36 Capicúa\n",
    "\n",
    "num = int(input(\"Ingrese un número entero positivo: \"))\n",
    "\n",
    "num_str = str(num)\n",
    "longitud = len(num_str)\n",
    "capicua = True\n",
    "\n",
    "for i in range(longitud // 2):\n",
    "    if num_str[i] != num_str[longitud - i - 1]:\n",
    "        capicua = False\n",
    "        break\n",
    "    \n",
    "if capicua:\n",
    "    print(f\"El número {num} es capicúa\")\n",
    "else:\n",
    "    print(f\"El número {num} no es capicúa\")"
   ]
  },
  {
   "cell_type": "code",
   "execution_count": 36,
   "metadata": {},
   "outputs": [
    {
     "name": "stdout",
     "output_type": "stream",
     "text": [
      "La palabra o frase no es palíndrome :(\n"
     ]
    }
   ],
   "source": [
    "# Ejercicio 37 Palíndromo\n",
    "\n",
    "cadena = input(\"Ingrese la palabra o frase para determinar si es palíndromo o no: \")\n",
    "\n",
    "cadena = cadena.lower()\n",
    "cadena = cadena.replace(\" \", \"\")\n",
    "longitud = len(cadena)\n",
    "palindromo = True\n",
    "\n",
    "for i in range(longitud // 2):\n",
    "    if cadena[i] != cadena[longitud - i - 1]:\n",
    "        palindromo = False\n",
    "        break\n",
    "\n",
    "if palindromo:\n",
    "    print(f\"La palabra o frase es palíndrome!\")\n",
    "else:\n",
    "    print(f\"La palabra o frase no es palíndrome :(\")"
   ]
  }
 ],
 "metadata": {
  "kernelspec": {
   "display_name": "Python 3 (ipykernel)",
   "language": "python",
   "name": "python3"
  },
  "language_info": {
   "codemirror_mode": {
    "name": "ipython",
    "version": 3
   },
   "file_extension": ".py",
   "mimetype": "text/x-python",
   "name": "python",
   "nbconvert_exporter": "python",
   "pygments_lexer": "ipython3",
   "version": "3.11.5"
  }
 },
 "nbformat": 4,
 "nbformat_minor": 2
}
